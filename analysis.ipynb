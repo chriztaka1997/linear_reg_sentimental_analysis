{
  "nbformat": 4,
  "nbformat_minor": 0,
  "metadata": {
    "colab": {
      "name": "analysis.ipynb",
      "provenance": [],
      "collapsed_sections": [
        "X16QqBCD74vx",
        "P-A0aIXACpyE",
        "2XGC8l8RhrsZ"
      ],
      "include_colab_link": true
    },
    "kernelspec": {
      "name": "python3",
      "display_name": "Python 3"
    },
    "language_info": {
      "name": "python"
    }
  },
  "cells": [
    {
      "cell_type": "markdown",
      "metadata": {
        "id": "view-in-github",
        "colab_type": "text"
      },
      "source": [
        "<a href=\"https://colab.research.google.com/github/chriztaka1997/linear_reg_sentimental_analysis/blob/main/analysis.ipynb\" target=\"_parent\"><img src=\"https://colab.research.google.com/assets/colab-badge.svg\" alt=\"Open In Colab\"/></a>"
      ]
    },
    {
      "cell_type": "markdown",
      "metadata": {
        "id": "X16QqBCD74vx"
      },
      "source": [
        "# Initializing project"
      ]
    },
    {
      "cell_type": "code",
      "metadata": {
        "colab": {
          "base_uri": "https://localhost:8080/"
        },
        "id": "N1Ddc6SX74ew",
        "outputId": "d51defd6-cbf1-447c-b74a-42304a40a7d0"
      },
      "source": [
        "import numpy as np\n",
        "from sklearn.linear_model import LinearRegression\n",
        "import matplotlib.pyplot as plt\n",
        "import pandas as pd\n",
        "\n",
        "import time\n",
        "\n",
        "#for google access\n",
        "from google.colab import drive\n",
        "drive.mount('/content/drive')"
      ],
      "execution_count": null,
      "outputs": [
        {
          "output_type": "stream",
          "text": [
            "Drive already mounted at /content/drive; to attempt to forcibly remount, call drive.mount(\"/content/drive\", force_remount=True).\n"
          ],
          "name": "stdout"
        }
      ]
    },
    {
      "cell_type": "code",
      "metadata": {
        "colab": {
          "base_uri": "https://localhost:8080/"
        },
        "id": "VaAYMA7C8kFc",
        "outputId": "7591c69a-2c45-4fd7-ed4c-5ada84b57adb"
      },
      "source": [
        "project_path = \"/content/drive/My Drive/CSCI_534 Project/Project\"\n",
        "# project_path = './'\n",
        "\n",
        "amc_stock = pd.read_csv(project_path+'/AMC Stock Data.csv') #181 of sample\n",
        "amc_vader = pd.read_csv(project_path+'/amc_vader.csv',index_col=0) #108817 of samples\n",
        "\n",
        "gm_stock = pd.read_csv(project_path+'/Gamestop Stock Data.csv') #181 of sample\n",
        "gm_vader = pd.read_csv(project_path+'/gamestop_vader.csv',index_col=0) #926877 of samples\n",
        "gm_vader = gm_vader.dropna(subset=['Datetime','Text','scores'])\n",
        "\n",
        "nokia_stock = pd.read_csv(project_path+'/Nokia Stock Data.csv') #181 of sample\n",
        "nokia_vader = pd.read_csv(project_path+'/nokia_vader.csv',index_col=0) #134351 of samples\n",
        "nokia_vader = nokia_vader.dropna(subset=['Datetime','Text','scores'])"
      ],
      "execution_count": null,
      "outputs": [
        {
          "output_type": "stream",
          "text": [
            "/usr/local/lib/python3.7/dist-packages/IPython/core/interactiveshell.py:2718: DtypeWarning: Columns (1,2,3,4,5) have mixed types.Specify dtype option on import or set low_memory=False.\n",
            "  interactivity=interactivity, compiler=compiler, result=result)\n",
            "/usr/local/lib/python3.7/dist-packages/IPython/core/interactiveshell.py:2718: DtypeWarning: Columns (2) have mixed types.Specify dtype option on import or set low_memory=False.\n",
            "  interactivity=interactivity, compiler=compiler, result=result)\n"
          ],
          "name": "stderr"
        }
      ]
    },
    {
      "cell_type": "code",
      "metadata": {
        "colab": {
          "base_uri": "https://localhost:8080/"
        },
        "id": "veqfjEA7UpDx",
        "outputId": "ff1de1b6-f6a8-42f8-9583-405979a24953"
      },
      "source": [
        "amc_vader.shape #108817\n",
        "gm_vader.shape #498125\n",
        "nokia_vader.shape #134350"
      ],
      "execution_count": null,
      "outputs": [
        {
          "output_type": "execute_result",
          "data": {
            "text/plain": [
              "(134350, 7)"
            ]
          },
          "metadata": {
            "tags": []
          },
          "execution_count": 3
        }
      ]
    },
    {
      "cell_type": "code",
      "metadata": {
        "colab": {
          "base_uri": "https://localhost:8080/",
          "height": 289
        },
        "id": "hft5dZkgVO3Y",
        "outputId": "d45b30e0-907b-441f-8dea-c9eedb819e0d"
      },
      "source": [
        "gm_vader.head()"
      ],
      "execution_count": null,
      "outputs": [
        {
          "output_type": "execute_result",
          "data": {
            "text/html": [
              "<div>\n",
              "<style scoped>\n",
              "    .dataframe tbody tr th:only-of-type {\n",
              "        vertical-align: middle;\n",
              "    }\n",
              "\n",
              "    .dataframe tbody tr th {\n",
              "        vertical-align: top;\n",
              "    }\n",
              "\n",
              "    .dataframe thead th {\n",
              "        text-align: right;\n",
              "    }\n",
              "</style>\n",
              "<table border=\"1\" class=\"dataframe\">\n",
              "  <thead>\n",
              "    <tr style=\"text-align: right;\">\n",
              "      <th></th>\n",
              "      <th>Datetime</th>\n",
              "      <th>Tweet Id</th>\n",
              "      <th>Text</th>\n",
              "      <th>Username</th>\n",
              "      <th>text_clean</th>\n",
              "      <th>scores</th>\n",
              "      <th>compound</th>\n",
              "    </tr>\n",
              "  </thead>\n",
              "  <tbody>\n",
              "    <tr>\n",
              "      <th>0</th>\n",
              "      <td>2021-01-21 23:59:38+00:00</td>\n",
              "      <td>1352405524852174858</td>\n",
              "      <td>Bought the PS5 bundle from @GameStop that tota...</td>\n",
              "      <td>Dr__Hankey</td>\n",
              "      <td>Bought the PS5 bundle from that totaled 800 an...</td>\n",
              "      <td>{'neg': 0.064, 'neu': 0.675, 'pos': 0.262, 'co...</td>\n",
              "      <td>0.7930</td>\n",
              "    </tr>\n",
              "    <tr>\n",
              "      <th>1</th>\n",
              "      <td>2021-01-21 23:59:25+00:00</td>\n",
              "      <td>1352405472779726848</td>\n",
              "      <td>@Entralized @GameStop What phone do you have? 😂</td>\n",
              "      <td>themichaelmsc</td>\n",
              "      <td>What phone do you have 😂</td>\n",
              "      <td>{'neg': 0.139, 'neu': 0.584, 'pos': 0.277, 'co...</td>\n",
              "      <td>0.4404</td>\n",
              "    </tr>\n",
              "    <tr>\n",
              "      <th>2</th>\n",
              "      <td>2021-01-21 23:59:23+00:00</td>\n",
              "      <td>1352405460964540419</td>\n",
              "      <td>@ManyFacedHeel @GameStop That is you after you...</td>\n",
              "      <td>OutlawRobS</td>\n",
              "      <td>That is you after you get and open the box</td>\n",
              "      <td>{'neg': 0.0, 'neu': 1.0, 'pos': 0.0, 'compound...</td>\n",
              "      <td>0.0000</td>\n",
              "    </tr>\n",
              "    <tr>\n",
              "      <th>3</th>\n",
              "      <td>2021-01-21 23:59:06+00:00</td>\n",
              "      <td>1352405392001794048</td>\n",
              "      <td>@CJSTRO13 Boy GameStop looked out when nobody ...</td>\n",
              "      <td>GumboGoon</td>\n",
              "      <td>Boy GameStop looked out when nobody else did 😭</td>\n",
              "      <td>{'neg': 0.237, 'neu': 0.763, 'pos': 0.0, 'comp...</td>\n",
              "      <td>-0.4767</td>\n",
              "    </tr>\n",
              "    <tr>\n",
              "      <th>4</th>\n",
              "      <td>2021-01-21 23:58:50+00:00</td>\n",
              "      <td>1352405324024655873</td>\n",
              "      <td>Amazon, Best Buy, and GameStop Release New PS5...</td>\n",
              "      <td>ISIS_Slay3r</td>\n",
              "      <td>Amazon Best Buy and GameStop Release New PS5 S...</td>\n",
              "      <td>{'neg': 0.111, 'neu': 0.579, 'pos': 0.311, 'co...</td>\n",
              "      <td>0.5859</td>\n",
              "    </tr>\n",
              "  </tbody>\n",
              "</table>\n",
              "</div>"
            ],
            "text/plain": [
              "                    Datetime  ... compound\n",
              "0  2021-01-21 23:59:38+00:00  ...   0.7930\n",
              "1  2021-01-21 23:59:25+00:00  ...   0.4404\n",
              "2  2021-01-21 23:59:23+00:00  ...   0.0000\n",
              "3  2021-01-21 23:59:06+00:00  ...  -0.4767\n",
              "4  2021-01-21 23:58:50+00:00  ...   0.5859\n",
              "\n",
              "[5 rows x 7 columns]"
            ]
          },
          "metadata": {
            "tags": []
          },
          "execution_count": 4
        }
      ]
    },
    {
      "cell_type": "markdown",
      "metadata": {
        "id": "P-A0aIXACpyE"
      },
      "source": [
        "# Preparing data\n",
        "In this part, we will combine and prepare the data is neccessary for the model to learn such as date, stock price and vader scores."
      ]
    },
    {
      "cell_type": "markdown",
      "metadata": {
        "id": "Dh6D5q5vEcsR"
      },
      "source": [
        "Preparing data for AMC"
      ]
    },
    {
      "cell_type": "code",
      "metadata": {
        "id": "5nhdAjseCtua"
      },
      "source": [
        "#In this part we are preparing data for processing (taking datetime and scores from vader data)\n",
        "amc_vader_date = amc_vader['Datetime'].to_numpy()\n",
        "amc_vader_scores = amc_vader['scores'].to_numpy()\n",
        "\n",
        "gm_vader_date = gm_vader['Datetime'].to_numpy()\n",
        "gm_vader_scores = gm_vader['scores'].to_numpy()\n",
        "\n",
        "nokia_vader_date = nokia_vader[\"Datetime\"].to_numpy()\n",
        "nokia_vader_scores = nokia_vader['scores'].to_numpy()\n",
        "\n",
        "NEG = 1\n",
        "NEU = 3\n",
        "POS = 5\n",
        "COM = -1 #remove '}'"
      ],
      "execution_count": null,
      "outputs": []
    },
    {
      "cell_type": "code",
      "metadata": {
        "id": "gIWDACliUR-J"
      },
      "source": [
        "#Cleaning amc data\n",
        "amc_vader_neg =[]\n",
        "amc_vader_neu =[]\n",
        "amc_vader_pos =[]\n",
        "amc_vader_com =[] #don't know if needed\n",
        "for i in range(len(amc_vader_date)):\n",
        "  amc_vader_date[i] = amc_vader_date[i].split()[0]    #cleaning the data only the date\n",
        "  #change date fromat\n",
        "  #mm/dd/yyy\n",
        "  amc_vader_date[i]=time.strptime(amc_vader_date[i],'%Y-%m-%d') \n",
        "  amc_vader_date[i]=time.strftime('%m/%d/%Y',amc_vader_date[i])\n",
        "\n",
        "  res = amc_vader_scores[i].replace(',','').split()\n",
        "  amc_vader_neg.append(float(res[NEG]))\n",
        "  amc_vader_neu.append(float(res[NEU]))\n",
        "  amc_vader_pos.append(float(res[POS]))\n",
        "  amc_vader_com.append(float(res[COM].replace(\"}\",\"\")))\n"
      ],
      "execution_count": null,
      "outputs": []
    },
    {
      "cell_type": "code",
      "metadata": {
        "id": "HGVaLYgB_HgL"
      },
      "source": [
        "#put amc vader data in df\n",
        "amc_vader_df = pd.DataFrame({\n",
        "    'Date':amc_vader_date,\n",
        "    'neg':amc_vader_neg,\n",
        "    'neu':amc_vader_neu,\n",
        "    'pos':amc_vader_pos,\n",
        "    'com':amc_vader_com\n",
        "})\n",
        "#combine data on the same date(caculate the mean of \"neg\",\"neu\",\"pos\",\"com\")\n",
        "amc_vader_df=amc_vader_df.groupby(['Date']).agg({'neg':np.mean,'neu':np.mean,'pos':np.mean,'com':np.mean}).reset_index()\n",
        "# amc_vader_df"
      ],
      "execution_count": null,
      "outputs": []
    },
    {
      "cell_type": "code",
      "metadata": {
        "id": "nTJpqffbOd8Z"
      },
      "source": [
        "#clean the stock date(taking datetime and close from stock data)\n",
        "amc_stock_date = amc_stock['Date'].to_numpy()\n",
        "amc_stock_close = amc_stock['Close'].to_numpy()"
      ],
      "execution_count": null,
      "outputs": []
    },
    {
      "cell_type": "code",
      "metadata": {
        "id": "tcHWQd6BOjUq"
      },
      "source": [
        "#get stock date and change format\n",
        "for i in range(len(amc_stock_date)):\n",
        "  amc_stock_date[i] = amc_stock_date[i].split()[0]\n",
        "  amc_stock_date[i]=time.strptime(amc_stock_date[i],'%m/%d/%Y')\n",
        "  amc_stock_date[i]=time.strftime('%m/%d/%Y',amc_stock_date[i])"
      ],
      "execution_count": null,
      "outputs": []
    },
    {
      "cell_type": "code",
      "metadata": {
        "id": "igE6P5S_QePV",
        "colab": {
          "base_uri": "https://localhost:8080/",
          "height": 419
        },
        "outputId": "f6a8d9d5-ef81-441c-c942-c02fbe37847c"
      },
      "source": [
        "#put amc stock data in df\n",
        "amc_stock_df = pd.DataFrame({\n",
        "    'Date':amc_stock_date,\n",
        "    'close':amc_stock_close\n",
        "})\n",
        "amc_stock_df"
      ],
      "execution_count": null,
      "outputs": [
        {
          "output_type": "execute_result",
          "data": {
            "text/html": [
              "<div>\n",
              "<style scoped>\n",
              "    .dataframe tbody tr th:only-of-type {\n",
              "        vertical-align: middle;\n",
              "    }\n",
              "\n",
              "    .dataframe tbody tr th {\n",
              "        vertical-align: top;\n",
              "    }\n",
              "\n",
              "    .dataframe thead th {\n",
              "        text-align: right;\n",
              "    }\n",
              "</style>\n",
              "<table border=\"1\" class=\"dataframe\">\n",
              "  <thead>\n",
              "    <tr style=\"text-align: right;\">\n",
              "      <th></th>\n",
              "      <th>Date</th>\n",
              "      <th>close</th>\n",
              "    </tr>\n",
              "  </thead>\n",
              "  <tbody>\n",
              "    <tr>\n",
              "      <th>0</th>\n",
              "      <td>07/01/2020</td>\n",
              "      <td>4.57</td>\n",
              "    </tr>\n",
              "    <tr>\n",
              "      <th>1</th>\n",
              "      <td>07/02/2020</td>\n",
              "      <td>4.53</td>\n",
              "    </tr>\n",
              "    <tr>\n",
              "      <th>2</th>\n",
              "      <td>07/06/2020</td>\n",
              "      <td>4.28</td>\n",
              "    </tr>\n",
              "    <tr>\n",
              "      <th>3</th>\n",
              "      <td>07/07/2020</td>\n",
              "      <td>4.13</td>\n",
              "    </tr>\n",
              "    <tr>\n",
              "      <th>4</th>\n",
              "      <td>07/08/2020</td>\n",
              "      <td>4.43</td>\n",
              "    </tr>\n",
              "    <tr>\n",
              "      <th>...</th>\n",
              "      <td>...</td>\n",
              "      <td>...</td>\n",
              "    </tr>\n",
              "    <tr>\n",
              "      <th>176</th>\n",
              "      <td>03/15/2021</td>\n",
              "      <td>14.04</td>\n",
              "    </tr>\n",
              "    <tr>\n",
              "      <th>177</th>\n",
              "      <td>03/16/2021</td>\n",
              "      <td>13.02</td>\n",
              "    </tr>\n",
              "    <tr>\n",
              "      <th>178</th>\n",
              "      <td>03/17/2021</td>\n",
              "      <td>13.56</td>\n",
              "    </tr>\n",
              "    <tr>\n",
              "      <th>179</th>\n",
              "      <td>03/18/2021</td>\n",
              "      <td>14.00</td>\n",
              "    </tr>\n",
              "    <tr>\n",
              "      <th>180</th>\n",
              "      <td>03/19/2021</td>\n",
              "      <td>13.93</td>\n",
              "    </tr>\n",
              "  </tbody>\n",
              "</table>\n",
              "<p>181 rows × 2 columns</p>\n",
              "</div>"
            ],
            "text/plain": [
              "           Date  close\n",
              "0    07/01/2020   4.57\n",
              "1    07/02/2020   4.53\n",
              "2    07/06/2020   4.28\n",
              "3    07/07/2020   4.13\n",
              "4    07/08/2020   4.43\n",
              "..          ...    ...\n",
              "176  03/15/2021  14.04\n",
              "177  03/16/2021  13.02\n",
              "178  03/17/2021  13.56\n",
              "179  03/18/2021  14.00\n",
              "180  03/19/2021  13.93\n",
              "\n",
              "[181 rows x 2 columns]"
            ]
          },
          "metadata": {
            "tags": []
          },
          "execution_count": 10
        }
      ]
    },
    {
      "cell_type": "code",
      "metadata": {
        "colab": {
          "base_uri": "https://localhost:8080/"
        },
        "id": "DzzB5iHQSbmQ",
        "outputId": "f45e94a4-4848-4974-a570-aecb747ddad5"
      },
      "source": [
        "#merge vader data and stock data\n",
        "amc_merge_df = pd.merge(amc_vader_df,amc_stock_df,on='Date',how=\"left\")\n",
        "amc_merge_df = amc_merge_df.dropna().reset_index(drop=True)\n",
        "amc_merge_df.shape #Only 20 days worth of data"
      ],
      "execution_count": null,
      "outputs": [
        {
          "output_type": "execute_result",
          "data": {
            "text/plain": [
              "(20, 6)"
            ]
          },
          "metadata": {
            "tags": []
          },
          "execution_count": 11
        }
      ]
    },
    {
      "cell_type": "code",
      "metadata": {
        "colab": {
          "base_uri": "https://localhost:8080/",
          "height": 204
        },
        "id": "vJzWqUDEnA_5",
        "outputId": "53192050-8fe0-474f-eb73-90b336a21338"
      },
      "source": [
        "amc_merge_df.head()"
      ],
      "execution_count": null,
      "outputs": [
        {
          "output_type": "execute_result",
          "data": {
            "text/html": [
              "<div>\n",
              "<style scoped>\n",
              "    .dataframe tbody tr th:only-of-type {\n",
              "        vertical-align: middle;\n",
              "    }\n",
              "\n",
              "    .dataframe tbody tr th {\n",
              "        vertical-align: top;\n",
              "    }\n",
              "\n",
              "    .dataframe thead th {\n",
              "        text-align: right;\n",
              "    }\n",
              "</style>\n",
              "<table border=\"1\" class=\"dataframe\">\n",
              "  <thead>\n",
              "    <tr style=\"text-align: right;\">\n",
              "      <th></th>\n",
              "      <th>Date</th>\n",
              "      <th>neg</th>\n",
              "      <th>neu</th>\n",
              "      <th>pos</th>\n",
              "      <th>com</th>\n",
              "      <th>close</th>\n",
              "    </tr>\n",
              "  </thead>\n",
              "  <tbody>\n",
              "    <tr>\n",
              "      <th>0</th>\n",
              "      <td>01/15/2021</td>\n",
              "      <td>0.051717</td>\n",
              "      <td>0.854198</td>\n",
              "      <td>0.094094</td>\n",
              "      <td>0.157303</td>\n",
              "      <td>2.33</td>\n",
              "    </tr>\n",
              "    <tr>\n",
              "      <th>1</th>\n",
              "      <td>01/19/2021</td>\n",
              "      <td>0.032056</td>\n",
              "      <td>0.867944</td>\n",
              "      <td>0.100011</td>\n",
              "      <td>0.209043</td>\n",
              "      <td>3.06</td>\n",
              "    </tr>\n",
              "    <tr>\n",
              "      <th>2</th>\n",
              "      <td>01/20/2021</td>\n",
              "      <td>0.030589</td>\n",
              "      <td>0.891189</td>\n",
              "      <td>0.078221</td>\n",
              "      <td>0.155343</td>\n",
              "      <td>2.97</td>\n",
              "    </tr>\n",
              "    <tr>\n",
              "      <th>3</th>\n",
              "      <td>01/21/2021</td>\n",
              "      <td>0.036168</td>\n",
              "      <td>0.891655</td>\n",
              "      <td>0.072177</td>\n",
              "      <td>0.084737</td>\n",
              "      <td>2.98</td>\n",
              "    </tr>\n",
              "    <tr>\n",
              "      <th>4</th>\n",
              "      <td>01/22/2021</td>\n",
              "      <td>0.060273</td>\n",
              "      <td>0.862308</td>\n",
              "      <td>0.077420</td>\n",
              "      <td>0.048788</td>\n",
              "      <td>3.51</td>\n",
              "    </tr>\n",
              "  </tbody>\n",
              "</table>\n",
              "</div>"
            ],
            "text/plain": [
              "         Date       neg       neu       pos       com  close\n",
              "0  01/15/2021  0.051717  0.854198  0.094094  0.157303   2.33\n",
              "1  01/19/2021  0.032056  0.867944  0.100011  0.209043   3.06\n",
              "2  01/20/2021  0.030589  0.891189  0.078221  0.155343   2.97\n",
              "3  01/21/2021  0.036168  0.891655  0.072177  0.084737   2.98\n",
              "4  01/22/2021  0.060273  0.862308  0.077420  0.048788   3.51"
            ]
          },
          "metadata": {
            "tags": []
          },
          "execution_count": 12
        }
      ]
    },
    {
      "cell_type": "markdown",
      "metadata": {
        "id": "KmwiRs15CIrQ"
      },
      "source": [
        "Preparing data for game stop"
      ]
    },
    {
      "cell_type": "code",
      "metadata": {
        "id": "4yjwzL_PWERQ"
      },
      "source": [
        "#same thing for game stop\n",
        "gm_vader_neg =[]\n",
        "gm_vader_neu =[]\n",
        "gm_vader_pos =[]\n",
        "gm_vader_com =[] #don't know if needed\n",
        "\n",
        "for i in range(len(gm_vader_date)):\n",
        "  gm_vader_date[i] = gm_vader_date[i].split()[0]    #cleaning the data only the date\n",
        "  #change date fromat\n",
        "  #mm/dd/yyy\n",
        "  gm_vader_date[i]=time.strptime(gm_vader_date[i],'%Y-%m-%d') \n",
        "  gm_vader_date[i]=time.strftime('%m/%d/%Y',gm_vader_date[i])\n",
        "\n",
        "  res = gm_vader_scores[i].replace(',','').split()\n",
        "  gm_vader_neg.append(float(res[NEG]))\n",
        "  gm_vader_neu.append(float(res[NEU]))\n",
        "  gm_vader_pos.append(float(res[POS]))\n",
        "  gm_vader_com.append(float(res[COM].replace(\"}\",\"\")))\n",
        "\n"
      ],
      "execution_count": null,
      "outputs": []
    },
    {
      "cell_type": "code",
      "metadata": {
        "id": "EmYRY_ijEoQK"
      },
      "source": [
        "#put amc vader data in df\n",
        "gm_vader_df = pd.DataFrame({\n",
        "    'Date':gm_vader_date,\n",
        "    'neg':gm_vader_neg,\n",
        "    'neu':gm_vader_neu,\n",
        "    'pos':gm_vader_pos,\n",
        "    'com':gm_vader_com\n",
        "})\n",
        "#combine data on the same date(caculate the mean of \"neg\",\"neu\",\"pos\",\"com\")\n",
        "gm_vader_df=gm_vader_df.groupby(['Date']).agg({'neg':np.mean,'neu':np.mean,'pos':np.mean,'com':np.mean}).reset_index()\n",
        "\n",
        "#clean the stock date(taking datetime and close from stock data)\n",
        "gm_stock_date = amc_stock['Date'].to_numpy()\n",
        "gm_stock_close = amc_stock['Close'].to_numpy()\n",
        "\n",
        "#get stock date and change format\n",
        "for i in range(len(amc_stock_date)):\n",
        "  gm_stock_date[i] = gm_stock_date[i].split()[0]\n",
        "  gm_stock_date[i]=time.strptime(gm_stock_date[i],'%m/%d/%Y')\n",
        "  gm_stock_date[i]=time.strftime('%m/%d/%Y',gm_stock_date[i])\n",
        "\n",
        "#put gm stock data in df\n",
        "gm_stock_df = pd.DataFrame({\n",
        "    'Date':gm_stock_date,\n",
        "    'close':gm_stock_close\n",
        "})\n",
        "\n",
        "#merge vader data and stock data\n",
        "gm_merge_df = pd.merge(gm_vader_df,gm_stock_df,on='Date',how=\"left\")\n",
        "gm_merge_df = gm_merge_df.dropna().reset_index(drop=True)"
      ],
      "execution_count": null,
      "outputs": []
    },
    {
      "cell_type": "code",
      "metadata": {
        "colab": {
          "base_uri": "https://localhost:8080/"
        },
        "id": "_KFNhQFbx2uv",
        "outputId": "0a678fa6-c47b-4a6c-b3ea-c4e3094af6f3"
      },
      "source": [
        "gm_merge_df.shape\n",
        "gm_merge_df"
      ],
      "execution_count": null,
      "outputs": [
        {
          "output_type": "execute_result",
          "data": {
            "text/html": [
              "<div>\n",
              "<style scoped>\n",
              "    .dataframe tbody tr th:only-of-type {\n",
              "        vertical-align: middle;\n",
              "    }\n",
              "\n",
              "    .dataframe tbody tr th {\n",
              "        vertical-align: top;\n",
              "    }\n",
              "\n",
              "    .dataframe thead th {\n",
              "        text-align: right;\n",
              "    }\n",
              "</style>\n",
              "<table border=\"1\" class=\"dataframe\">\n",
              "  <thead>\n",
              "    <tr style=\"text-align: right;\">\n",
              "      <th></th>\n",
              "      <th>Date</th>\n",
              "      <th>neg</th>\n",
              "      <th>neu</th>\n",
              "      <th>pos</th>\n",
              "      <th>com</th>\n",
              "      <th>close</th>\n",
              "    </tr>\n",
              "  </thead>\n",
              "  <tbody>\n",
              "    <tr>\n",
              "      <th>0</th>\n",
              "      <td>01/15/2021</td>\n",
              "      <td>0.066918</td>\n",
              "      <td>0.809479</td>\n",
              "      <td>0.114419</td>\n",
              "      <td>0.119682</td>\n",
              "      <td>2.33</td>\n",
              "    </tr>\n",
              "    <tr>\n",
              "      <th>1</th>\n",
              "      <td>01/19/2021</td>\n",
              "      <td>0.071715</td>\n",
              "      <td>0.816464</td>\n",
              "      <td>0.103075</td>\n",
              "      <td>0.096117</td>\n",
              "      <td>3.06</td>\n",
              "    </tr>\n",
              "    <tr>\n",
              "      <th>2</th>\n",
              "      <td>01/20/2021</td>\n",
              "      <td>0.070932</td>\n",
              "      <td>0.775153</td>\n",
              "      <td>0.103937</td>\n",
              "      <td>0.077671</td>\n",
              "      <td>2.97</td>\n",
              "    </tr>\n",
              "    <tr>\n",
              "      <th>3</th>\n",
              "      <td>01/21/2021</td>\n",
              "      <td>0.101333</td>\n",
              "      <td>0.766235</td>\n",
              "      <td>0.104481</td>\n",
              "      <td>0.035536</td>\n",
              "      <td>2.98</td>\n",
              "    </tr>\n",
              "    <tr>\n",
              "      <th>4</th>\n",
              "      <td>01/29/2021</td>\n",
              "      <td>0.074667</td>\n",
              "      <td>0.837049</td>\n",
              "      <td>0.086788</td>\n",
              "      <td>0.042666</td>\n",
              "      <td>13.26</td>\n",
              "    </tr>\n",
              "    <tr>\n",
              "      <th>5</th>\n",
              "      <td>02/01/2021</td>\n",
              "      <td>0.068167</td>\n",
              "      <td>0.834893</td>\n",
              "      <td>0.090908</td>\n",
              "      <td>0.073608</td>\n",
              "      <td>13.30</td>\n",
              "    </tr>\n",
              "    <tr>\n",
              "      <th>6</th>\n",
              "      <td>02/02/2021</td>\n",
              "      <td>0.032565</td>\n",
              "      <td>0.925680</td>\n",
              "      <td>0.040680</td>\n",
              "      <td>0.026736</td>\n",
              "      <td>7.82</td>\n",
              "    </tr>\n",
              "    <tr>\n",
              "      <th>7</th>\n",
              "      <td>02/03/2021</td>\n",
              "      <td>0.066043</td>\n",
              "      <td>0.850344</td>\n",
              "      <td>0.081206</td>\n",
              "      <td>0.047915</td>\n",
              "      <td>8.97</td>\n",
              "    </tr>\n",
              "    <tr>\n",
              "      <th>8</th>\n",
              "      <td>02/04/2021</td>\n",
              "      <td>0.008576</td>\n",
              "      <td>0.980081</td>\n",
              "      <td>0.010847</td>\n",
              "      <td>0.007074</td>\n",
              "      <td>7.09</td>\n",
              "    </tr>\n",
              "    <tr>\n",
              "      <th>9</th>\n",
              "      <td>02/05/2021</td>\n",
              "      <td>0.064019</td>\n",
              "      <td>0.847752</td>\n",
              "      <td>0.084401</td>\n",
              "      <td>0.065945</td>\n",
              "      <td>6.83</td>\n",
              "    </tr>\n",
              "    <tr>\n",
              "      <th>10</th>\n",
              "      <td>02/08/2021</td>\n",
              "      <td>0.005830</td>\n",
              "      <td>0.985395</td>\n",
              "      <td>0.008517</td>\n",
              "      <td>0.007193</td>\n",
              "      <td>6.18</td>\n",
              "    </tr>\n",
              "    <tr>\n",
              "      <th>11</th>\n",
              "      <td>02/09/2021</td>\n",
              "      <td>0.075553</td>\n",
              "      <td>0.818950</td>\n",
              "      <td>0.096775</td>\n",
              "      <td>0.061348</td>\n",
              "      <td>5.50</td>\n",
              "    </tr>\n",
              "    <tr>\n",
              "      <th>12</th>\n",
              "      <td>02/10/2021</td>\n",
              "      <td>0.067314</td>\n",
              "      <td>0.835373</td>\n",
              "      <td>0.093440</td>\n",
              "      <td>0.076224</td>\n",
              "      <td>5.80</td>\n",
              "    </tr>\n",
              "    <tr>\n",
              "      <th>13</th>\n",
              "      <td>02/11/2021</td>\n",
              "      <td>0.077765</td>\n",
              "      <td>0.823238</td>\n",
              "      <td>0.093047</td>\n",
              "      <td>0.067025</td>\n",
              "      <td>5.61</td>\n",
              "    </tr>\n",
              "    <tr>\n",
              "      <th>14</th>\n",
              "      <td>02/12/2021</td>\n",
              "      <td>0.073702</td>\n",
              "      <td>0.840181</td>\n",
              "      <td>0.082053</td>\n",
              "      <td>0.036436</td>\n",
              "      <td>5.59</td>\n",
              "    </tr>\n",
              "  </tbody>\n",
              "</table>\n",
              "</div>"
            ],
            "text/plain": [
              "          Date       neg       neu       pos       com  close\n",
              "0   01/15/2021  0.066918  0.809479  0.114419  0.119682   2.33\n",
              "1   01/19/2021  0.071715  0.816464  0.103075  0.096117   3.06\n",
              "2   01/20/2021  0.070932  0.775153  0.103937  0.077671   2.97\n",
              "3   01/21/2021  0.101333  0.766235  0.104481  0.035536   2.98\n",
              "4   01/29/2021  0.074667  0.837049  0.086788  0.042666  13.26\n",
              "5   02/01/2021  0.068167  0.834893  0.090908  0.073608  13.30\n",
              "6   02/02/2021  0.032565  0.925680  0.040680  0.026736   7.82\n",
              "7   02/03/2021  0.066043  0.850344  0.081206  0.047915   8.97\n",
              "8   02/04/2021  0.008576  0.980081  0.010847  0.007074   7.09\n",
              "9   02/05/2021  0.064019  0.847752  0.084401  0.065945   6.83\n",
              "10  02/08/2021  0.005830  0.985395  0.008517  0.007193   6.18\n",
              "11  02/09/2021  0.075553  0.818950  0.096775  0.061348   5.50\n",
              "12  02/10/2021  0.067314  0.835373  0.093440  0.076224   5.80\n",
              "13  02/11/2021  0.077765  0.823238  0.093047  0.067025   5.61\n",
              "14  02/12/2021  0.073702  0.840181  0.082053  0.036436   5.59"
            ]
          },
          "metadata": {
            "tags": []
          },
          "execution_count": 15
        }
      ]
    },
    {
      "cell_type": "markdown",
      "metadata": {
        "id": "hv9LltR8bSmq"
      },
      "source": [
        "Preparing data for nokia"
      ]
    },
    {
      "cell_type": "code",
      "metadata": {
        "id": "Klb_E37TacqM"
      },
      "source": [
        "#same thing for nokia\n",
        "#Cleaning nokia data\n",
        "nokia_vader_neg =[]\n",
        "nokia_vader_neu =[]\n",
        "nokia_vader_pos =[]\n",
        "nokia_vader_com =[] #don't know if needed\n",
        "\n",
        "exception_nokia =[]\n",
        "for i in range(len(nokia_vader_date)):\n",
        "  nokia_vader_date[i] = nokia_vader_date[i].split()[0]    #cleaning the data only the date\n",
        "  #change date fromat\n",
        "  #mm/dd/yyy\n",
        "  nokia_vader_date[i]=time.strptime(nokia_vader_date[i],'%Y-%m-%d') \n",
        "  nokia_vader_date[i]=time.strftime('%m/%d/%Y',nokia_vader_date[i])\n",
        "\n",
        "  res = nokia_vader_scores[i].replace(',','').split()\n",
        "  nokia_vader_neg.append(float(res[NEG]))\n",
        "  nokia_vader_neu.append(float(res[NEU]))\n",
        "  nokia_vader_pos.append(float(res[POS]))\n",
        "  nokia_vader_com.append(float(res[COM].replace(\"}\",\"\")))\n"
      ],
      "execution_count": null,
      "outputs": []
    },
    {
      "cell_type": "code",
      "metadata": {
        "id": "250GtwM-dD88"
      },
      "source": [
        "#put nokia vader data in df\n",
        "nokia_vader_df = pd.DataFrame({\n",
        "    'Date':nokia_vader_date,\n",
        "    'neg':nokia_vader_neg,\n",
        "    'neu':nokia_vader_neu,\n",
        "    'pos':nokia_vader_pos,\n",
        "    'com':nokia_vader_com\n",
        "})\n",
        "\n",
        "#combine data on the same date(caculate the mean of \"neg\",\"neu\",\"pos\",\"com\")\n",
        "nokia_vader_df=nokia_vader_df.groupby(['Date']).agg({'neg':np.mean,'neu':np.mean,'pos':np.mean,'com':np.mean}).reset_index()\n",
        "\n",
        "#clean the stock date(taking datetime and close from stock data)\n",
        "nokia_stock_date = nokia_stock['Date'].to_numpy()\n",
        "nokia_stock_close = nokia_stock['Close'].to_numpy()\n",
        "\n",
        "#get stock date and change format\n",
        "for i in range(len(amc_stock_date)):\n",
        "  nokia_stock_date[i] = nokia_stock_date[i].split()[0]\n",
        "  nokia_stock_date[i]=time.strptime(nokia_stock_date[i],'%m/%d/%Y')\n",
        "  nokia_stock_date[i]=time.strftime('%m/%d/%Y',nokia_stock_date[i])\n",
        "\n",
        "#put nokia stock data in df\n",
        "nokia_stock_df = pd.DataFrame({\n",
        "    'Date':nokia_stock_date,\n",
        "    'close':nokia_stock_close\n",
        "})\n",
        "\n",
        "#merge vader data and stock data\n",
        "nokia_merge_df = pd.merge(nokia_vader_df,nokia_stock_df,on='Date',how=\"left\")\n",
        "nokia_merge_df = nokia_merge_df.dropna().reset_index(drop=True)"
      ],
      "execution_count": null,
      "outputs": []
    },
    {
      "cell_type": "code",
      "metadata": {
        "colab": {
          "base_uri": "https://localhost:8080/"
        },
        "id": "dLcpb2MXxzoF",
        "outputId": "5c652158-27d9-4737-d504-a55f1bca01c2"
      },
      "source": [
        "nokia_merge_df.shape"
      ],
      "execution_count": null,
      "outputs": [
        {
          "output_type": "execute_result",
          "data": {
            "text/plain": [
              "(20, 6)"
            ]
          },
          "metadata": {
            "tags": []
          },
          "execution_count": 18
        }
      ]
    },
    {
      "cell_type": "markdown",
      "metadata": {
        "id": "2XGC8l8RhrsZ"
      },
      "source": [
        "# Training the linear model"
      ]
    },
    {
      "cell_type": "markdown",
      "metadata": {
        "id": "tpCljA5ghzPP"
      },
      "source": [
        "Training the linear model for AMC"
      ]
    },
    {
      "cell_type": "code",
      "metadata": {
        "id": "VUX1S4c8hyJl"
      },
      "source": [
        "#Creating a model based on the amc data\n",
        "#amc_merge_df[['neg','neu','pos','com']] is the data or x or feature\n",
        "#amc_merge_df[['close']] is the label\n",
        "reg_amc = LinearRegression().fit(amc_merge_df[['neg','neu','pos','com']], amc_merge_df[['close']])"
      ],
      "execution_count": null,
      "outputs": []
    },
    {
      "cell_type": "markdown",
      "metadata": {
        "id": "j0iRwH2diIBl"
      },
      "source": [
        "Training the linear model for Game Stop"
      ]
    },
    {
      "cell_type": "code",
      "metadata": {
        "id": "RSAUV3vCiLg5"
      },
      "source": [
        "# similar with the one above but with gm data\n",
        "reg_gm = LinearRegression().fit(gm_merge_df[['neg','neu','pos','com']], gm_merge_df[['close']])"
      ],
      "execution_count": null,
      "outputs": []
    },
    {
      "cell_type": "markdown",
      "metadata": {
        "id": "p1shUu30iMXp"
      },
      "source": [
        "Training the linear model for Nokia"
      ]
    },
    {
      "cell_type": "code",
      "metadata": {
        "id": "qk1UtYpqmHHU"
      },
      "source": [
        "#similar with the one above but with nokia data\n",
        "reg_nokia = LinearRegression().fit(nokia_merge_df[['neg','neu','pos','com']], nokia_merge_df[['close']])"
      ],
      "execution_count": null,
      "outputs": []
    },
    {
      "cell_type": "markdown",
      "metadata": {
        "id": "lpU5WyxgmJFG"
      },
      "source": [
        "# Plot the data and model of for each company"
      ]
    },
    {
      "cell_type": "code",
      "metadata": {
        "id": "jZZ9RAqgmi0O"
      },
      "source": [
        "#each model is predicting the label using the data that we have\n",
        "#pred_amc is a numpy array consisting the values of prediction of the amc data that we use for the training\n",
        "pred_amc = reg_amc.predict(amc_merge_df[['neg','neu','pos','com']])\n",
        "pred_gm = reg_gm.predict(gm_merge_df[['neg','neu','pos','com']])\n",
        "pred_nokia = reg_nokia.predict(nokia_merge_df[['neg','neu','pos','com']])\n",
        "\n",
        "#In this part, I am combining the data  of each company with the prediction\n",
        "amc_merge_pred = pd.concat([amc_merge_df, pd.DataFrame(pred_amc,columns=['pred'])], axis=1)\n",
        "gm_merge_pred = pd.concat([gm_merge_df, pd.DataFrame(pred_gm,columns=['pred'])], axis=1)\n",
        "nokia_merge_pred = pd.concat([nokia_merge_df, pd.DataFrame(pred_nokia,columns=['pred'])], axis=1)"
      ],
      "execution_count": null,
      "outputs": []
    },
    {
      "cell_type": "markdown",
      "metadata": {
        "id": "CtspQLBju00E"
      },
      "source": [
        "Display the perfomance of the model"
      ]
    },
    {
      "cell_type": "code",
      "metadata": {
        "id": "mX-d96oMvC3A",
        "colab": {
          "base_uri": "https://localhost:8080/"
        },
        "outputId": "8f591fa0-6291-4646-eac0-3d827f22fc7f"
      },
      "source": [
        "from sklearn.metrics import mean_squared_error\n",
        "\n",
        "#This is the score of the prediction/ performance of the model\n",
        "amc_score = mean_squared_error(amc_merge_df[['close']], pred_amc)\n",
        "gm_score = mean_squared_error(gm_merge_df[['close']], pred_gm)\n",
        "nokia_score = mean_squared_error(nokia_merge_df[['close']], pred_nokia)\n",
        "[amc_score, gm_score,nokia_score]"
      ],
      "execution_count": null,
      "outputs": [
        {
          "output_type": "execute_result",
          "data": {
            "text/plain": [
              "[14.005504752790852, 7.002529792869479, 0.1291994204660292]"
            ]
          },
          "metadata": {
            "tags": []
          },
          "execution_count": 23
        }
      ]
    },
    {
      "cell_type": "code",
      "metadata": {
        "colab": {
          "base_uri": "https://localhost:8080/",
          "height": 554
        },
        "id": "N_G7cuIfSeTQ",
        "outputId": "49e7f52d-5b12-4b45-867b-e846d8772119"
      },
      "source": [
        "#plot amc\n",
        "#In this part, it is plotting the data with the stock + the model itself\n",
        "fig, axs = plt.subplots(2,2)\n",
        "fig.suptitle('AMC stock vs sentimental analysis')\n",
        "fig.set_size_inches(10,8)\n",
        "\n",
        "amc_sort_neg = amc_merge_pred.sort_values(by=['neg'])\n",
        "axs[0,0].scatter(amc_sort_neg[['neg']],amc_sort_neg[['close']],color='red',label='neg') #Plotting the data\n",
        "axs[0,0].plot(amc_sort_neg[['neg']], amc_sort_neg[['pred']], color='black', linewidth=3) #plotting the model by using the prediction\n",
        "axs[0,0].set_title('stock vs neg')\n",
        "axs[0,0].set(xlabel='neg score', ylabel='stock price')\n",
        "axs[0,0].label_outer()\n",
        "\n",
        "amc_sort_neu = amc_merge_pred.sort_values(by=['neu'])\n",
        "axs[0,1].scatter(amc_sort_neu[['neu']],amc_sort_neu[['close']],color='blue',label='neu') #Plotting the data\n",
        "axs[0,1].plot(amc_sort_neu[['neu']], amc_sort_neu[['pred']], color='black', linewidth=3)#plotting the model by using the prediction\n",
        "axs[0,1].set_title('stock vs neu')\n",
        "axs[0,1].set(xlabel='neu score', ylabel='stock price')\n",
        "axs[0,1].label_outer()\n",
        "\n",
        "amc_sort_pos = amc_merge_pred.sort_values(by=['pos'])\n",
        "axs[1,0].scatter(amc_sort_pos[['pos']],amc_sort_pos[['close']],color='green',label='pos')#Plotting the data\n",
        "axs[1,0].plot(amc_sort_pos[['pos']], amc_sort_pos[['pred']], color='black', linewidth=3)#plotting the model by using the prediction\n",
        "axs[1,0].set_title('stock vs pos')\n",
        "axs[1,0].set(xlabel='pos score', ylabel='stock price')\n",
        "axs[1,0].label_outer()\n",
        "\n",
        "amc_sort_com = amc_merge_pred.sort_values(by=['com'])\n",
        "axs[1,1].scatter(amc_sort_com[['com']],amc_sort_com[['close']],color='yellow',label='com')#Plotting the data\n",
        "axs[1,1].plot(amc_sort_com[['com']], amc_sort_com[['pred']], color='black', linewidth=3)#plotting the model by using the prediction\n",
        "axs[1,1].set_title('stock vs com')\n",
        "axs[1,1].set(xlabel='com score', ylabel='stock price')\n",
        "axs[1,1].label_outer()\n"
      ],
      "execution_count": null,
      "outputs": [
        {
          "output_type": "display_data",
          "data": {
            "image/png": "[encoded data removed]",
            "text/plain": [
              "<Figure size 720x576 with 4 Axes>"
            ]
          },
          "metadata": {
            "tags": [],
            "needs_background": "light"
          }
        }
      ]
    },
    {
      "cell_type": "code",
      "metadata": {
        "colab": {
          "base_uri": "https://localhost:8080/",
          "height": 554
        },
        "id": "mxmGQbHpTg7d",
        "outputId": "f02d7069-211d-45f2-a2d2-cd907ac4061e"
      },
      "source": [
        "#plot gm\n",
        "fig, axs = plt.subplots(2,2)\n",
        "fig.suptitle('Gamestop stock vs sentimental analysis')\n",
        "fig.set_size_inches(10,8)\n",
        "\n",
        "gm_sort_neg = gm_merge_pred.sort_values(by=['neg'])\n",
        "axs[0,0].scatter(gm_sort_neg[['neg']],gm_sort_neg[['close']],color='red',label='neg')\n",
        "axs[0,0].plot(gm_sort_neg[['neg']], gm_sort_neg[['pred']], color='black', linewidth=3)\n",
        "axs[0,0].set_title('stock vs neg')\n",
        "axs[0,0].set(xlabel='neg score', ylabel='stock price')\n",
        "axs[0,0].label_outer()\n",
        "\n",
        "gm_sort_neu = gm_merge_pred.sort_values(by=['neu'])\n",
        "axs[0,1].scatter(gm_sort_neu[['neu']],gm_sort_neu[['close']],color='blue',label='neu')\n",
        "axs[0,1].plot(gm_sort_neu[['neu']], gm_sort_neu[['pred']], color='black', linewidth=3)\n",
        "axs[0,1].set_title('stock vs neu')\n",
        "axs[0,1].set(xlabel='neu score', ylabel='stock price')\n",
        "axs[0,1].label_outer()\n",
        "\n",
        "gm_sort_pos = gm_merge_pred.sort_values(by=['pos'])\n",
        "axs[1,0].scatter(gm_sort_pos[['pos']],gm_sort_pos[['close']],color='green',label='pos')\n",
        "axs[1,0].plot(gm_sort_pos[['pos']], gm_sort_pos[['pred']], color='black', linewidth=3)\n",
        "axs[1,0].set_title('stock vs pos')\n",
        "axs[1,0].set(xlabel='pos score', ylabel='stock price')\n",
        "axs[1,0].label_outer()\n",
        "\n",
        "gm_sort_com = gm_merge_pred.sort_values(by=['com'])\n",
        "axs[1,1].scatter(gm_sort_com[['com']],gm_sort_com[['close']],color='yellow',label='com')\n",
        "axs[1,1].plot(gm_sort_com[['com']], gm_sort_com[['pred']], color='black', linewidth=3)\n",
        "axs[1,1].set_title('stock vs com')\n",
        "axs[1,1].set(xlabel='com score', ylabel='stock price')\n",
        "axs[1,1].label_outer()"
      ],
      "execution_count": null,
      "outputs": [
        {
          "output_type": "display_data",
          "data": {
            "image/png": "[encoded data removed]",
            "text/plain": [
              "<Figure size 720x576 with 4 Axes>"
            ]
          },
          "metadata": {
            "tags": [],
            "needs_background": "light"
          }
        }
      ]
    },
    {
      "cell_type": "code",
      "metadata": {
        "colab": {
          "base_uri": "https://localhost:8080/",
          "height": 554
        },
        "id": "cipvKZJdUAhG",
        "outputId": "455907b9-4f0e-4c3d-bf91-877c3fa6a564"
      },
      "source": [
        "#plot Nokia\n",
        "fig, axs = plt.subplots(2,2)\n",
        "fig.suptitle('Nokia stock vs sentimental analysis')\n",
        "fig.set_size_inches(10,8)\n",
        "\n",
        "nokia_sort_neg = nokia_merge_pred.sort_values(by=['neg'])\n",
        "axs[0,0].scatter(nokia_sort_neg[['neg']],nokia_sort_neg[['close']],color='red',label='neg')\n",
        "axs[0,0].plot(nokia_sort_neg[['neg']], nokia_sort_neg[['pred']], color='black', linewidth=3)\n",
        "axs[0,0].set_title('stock vs neg')\n",
        "axs[0,0].set(xlabel='neg score', ylabel='stock price')\n",
        "axs[0,0].label_outer()\n",
        "\n",
        "nokia_sort_neu = nokia_merge_pred.sort_values(by=['neu'])\n",
        "axs[0,1].scatter(nokia_sort_neu[['neu']],nokia_sort_neu[['close']],color='blue',label='neu')\n",
        "axs[0,1].plot(nokia_sort_neu[['neu']], nokia_sort_neu[['pred']], color='black', linewidth=3)\n",
        "axs[0,1].set_title('stock vs neu')\n",
        "axs[0,1].set(xlabel='neu score', ylabel='stock price')\n",
        "axs[0,1].label_outer()\n",
        "\n",
        "nokia_sort_pos = nokia_merge_pred.sort_values(by=['pos'])\n",
        "axs[1,0].scatter(nokia_sort_pos[['pos']],nokia_sort_pos[['close']],color='green',label='pos')\n",
        "axs[1,0].plot(nokia_sort_pos[['pos']], nokia_sort_pos[['pred']], color='black', linewidth=3)\n",
        "axs[1,0].set_title('stock vs pos')\n",
        "axs[1,0].set(xlabel='pos score', ylabel='stock price')\n",
        "axs[1,0].label_outer()\n",
        "\n",
        "nokia_sort_com = nokia_merge_pred.sort_values(by=['com'])\n",
        "axs[1,1].scatter(nokia_sort_com[['com']],nokia_sort_com[['close']],color='yellow',label='com')\n",
        "axs[1,1].plot(nokia_sort_com[['com']], nokia_sort_com[['pred']], color='black', linewidth=3)\n",
        "axs[1,1].set_title('stock vs com')\n",
        "axs[1,1].set(xlabel='com score', ylabel='stock price')\n",
        "axs[1,1].label_outer()"
      ],
      "execution_count": null,
      "outputs": [
        {
          "output_type": "display_data",
          "data": {
            "image/png": "[encoded data removed]",
            "text/plain": [
              "<Figure size 720x576 with 4 Axes>"
            ]
          },
          "metadata": {
            "tags": [],
            "needs_background": "light"
          }
        }
      ]
    },
    {
      "cell_type": "markdown",
      "metadata": {
        "id": "PSimhRVVSOxz"
      },
      "source": [
        "# Plot data against time"
      ]
    },
    {
      "cell_type": "code",
      "metadata": {
        "colab": {
          "base_uri": "https://localhost:8080/",
          "height": 554
        },
        "id": "ORL53T8ESM-K",
        "outputId": "5fe80e54-6576-4a72-a812-75d769159e76"
      },
      "source": [
        "fig, axs = plt.subplots(2,2)\n",
        "fig.suptitle('Emotion vs time')\n",
        "fig.set_size_inches(10,8)\n",
        "\n",
        "amc_sort_neg = amc_merge_pred.sort_values(by=['Date'])\n",
        "axs[0,0].scatter([i for i in range(20)],amc_sort_neg[['neg']],color='red',label='neg')\n",
        "axs[0,0].set_title('stock vs neg')\n",
        "axs[0,0].set(xlabel='neg score', ylabel='stock price')\n",
        "axs[0,0].label_outer()\n",
        "\n",
        "amc_sort_neu = amc_merge_pred.sort_values(by=['Date'])\n",
        "axs[0,1].scatter([i for i in range(20)],amc_sort_neu[['neu']],color='blue',label='neu')\n",
        "axs[0,1].set_title('stock vs neu')\n",
        "axs[0,1].set(xlabel='Date', ylabel='neu value')\n",
        "axs[0,1].label_outer()\n",
        "\n",
        "amc_sort_pos = amc_merge_pred.sort_values(by=['Date'])\n",
        "axs[1,0].scatter([i for i in range(20)],amc_sort_pos[['pos']],color='green',label='pos')\n",
        "axs[1,0].set_title('stock vs pos')\n",
        "axs[1,0].set(xlabel='pos score', ylabel='stock price')\n",
        "axs[1,0].label_outer()\n",
        "\n",
        "amc_sort_com = amc_merge_pred.sort_values(by=['Date'])\n",
        "axs[1,1].scatter([i for i in range(20)],amc_sort_com[['com']],color='yellow',label='com')\n",
        "axs[1,1].set_title('Date vs com')\n",
        "axs[1,1].set(xlabel='com score', ylabel='stock price')\n",
        "axs[1,1].label_outer()"
      ],
      "execution_count": null,
      "outputs": [
        {
          "output_type": "display_data",
          "data": {
            "image/png": "[encoded data removed]",
            "text/plain": [
              "<Figure size 720x576 with 4 Axes>"
            ]
          },
          "metadata": {
            "tags": [],
            "needs_background": "light"
          }
        }
      ]
    },
    {
      "cell_type": "code",
      "metadata": {
        "colab": {
          "base_uri": "https://localhost:8080/",
          "height": 677
        },
        "id": "dPiga0ZTUCr9",
        "outputId": "e76c5506-7a89-401b-b847-4eba283b5e06"
      },
      "source": [
        "fig, axs = plt.subplots(3)\n",
        "fig.set_size_inches(10,10)\n",
        "fig.suptitle('stock vs time')\n",
        "\n",
        "amc_sort_neg = amc_merge_pred.sort_values(by=['Date'])\n",
        "axs[0].scatter([i for i in range(20)],amc_sort_neg[['close']],color='red',label='neg')\n",
        "axs[0].set_title('stock vs neg')\n",
        "axs[0].set(xlabel='neg score', ylabel='stock price')\n",
        "axs[0].label_outer()\n",
        "\n",
        "amc_sort_neu = amc_merge_pred.sort_values(by=['Date'])\n",
        "axs[1].scatter([i for i in range(20)],amc_sort_neu[['neg']],color='blue',label='neu')\n",
        "axs[1].set_title('Date vs neg')\n",
        "axs[1].set(xlabel='Date', ylabel='neg value')\n",
        "axs[1].label_outer()\n",
        "\n",
        "amc_sort_pos = amc_merge_pred.sort_values(by=['Date'])\n",
        "axs[2].scatter([i for i in range(20)],amc_sort_pos[['pos']],color='green',label='pos')\n",
        "axs[2].set_title('Date vs pos')\n",
        "axs[2].set(xlabel='Date', ylabel='pos price')\n",
        "plt.show()"
      ],
      "execution_count": null,
      "outputs": [
        {
          "output_type": "display_data",
          "data": {
            "image/png": "[encoded data removed]",
            "text/plain": [
              "<Figure size 720x720 with 3 Axes>"
            ]
          },
          "metadata": {
            "tags": [],
            "needs_background": "light"
          }
        }
      ]
    },
    {
      "cell_type": "markdown",
      "metadata": {
        "id": "iRqGXfePagl7"
      },
      "source": [
        "# Training with different method"
      ]
    },
    {
      "cell_type": "code",
      "metadata": {
        "id": "uMQ8jcOoB2Ih"
      },
      "source": [
        "#Training models based on the amc data for four features(neg,neu,pos,com) separately\n",
        "reg_amc_neg = LinearRegression().fit(amc_merge_df[['neg']], amc_merge_df[['close']])\n",
        "reg_amc_neu = LinearRegression().fit(amc_merge_df[['neu']], amc_merge_df[['close']])\n",
        "reg_amc_pos = LinearRegression().fit(amc_merge_df[['pos']], amc_merge_df[['close']])\n",
        "reg_amc_com = LinearRegression().fit(amc_merge_df[['com']], amc_merge_df[['close']])"
      ],
      "execution_count": null,
      "outputs": []
    },
    {
      "cell_type": "code",
      "metadata": {
        "colab": {
          "base_uri": "https://localhost:8080/",
          "height": 669
        },
        "id": "ouUgW-fHB3QT",
        "outputId": "a00ca4cd-476e-4f7c-9ef4-333ec2947ebc"
      },
      "source": [
        "#predict the stock price of amc using new models\n",
        "pred_amc_neg = reg_amc_neg.predict(amc_merge_df[['neg']])\n",
        "pred_amc_neu = reg_amc_neu.predict(amc_merge_df[['neu']])\n",
        "pred_amc_pos = reg_amc_pos.predict(amc_merge_df[['pos']])\n",
        "pred_amc_com = reg_amc_com.predict(amc_merge_df[['com']])\n",
        "\n",
        "#combine five kinds of prediction for amc with original data\n",
        "amc_merge_pred1 = pd.concat([amc_merge_df, pd.DataFrame(pred_amc,columns=['pred'])], axis=1)\n",
        "amc_merge_pred1 = pd.concat([amc_merge_pred1, pd.DataFrame(pred_amc_neg,columns=['pred_neg'])], axis=1)\n",
        "amc_merge_pred1 = pd.concat([amc_merge_pred1, pd.DataFrame(pred_amc_neu,columns=['pred_neu'])], axis=1)\n",
        "amc_merge_pred1 = pd.concat([amc_merge_pred1, pd.DataFrame(pred_amc_pos,columns=['pred_pos'])], axis=1)\n",
        "amc_merge_pred1 = pd.concat([amc_merge_pred1, pd.DataFrame(pred_amc_com,columns=['pred_com'])], axis=1)\n",
        "\n",
        "amc_merge_pred1"
      ],
      "execution_count": null,
      "outputs": [
        {
          "output_type": "execute_result",
          "data": {
            "text/html": [
              "<div>\n",
              "<style scoped>\n",
              "    .dataframe tbody tr th:only-of-type {\n",
              "        vertical-align: middle;\n",
              "    }\n",
              "\n",
              "    .dataframe tbody tr th {\n",
              "        vertical-align: top;\n",
              "    }\n",
              "\n",
              "    .dataframe thead th {\n",
              "        text-align: right;\n",
              "    }\n",
              "</style>\n",
              "<table border=\"1\" class=\"dataframe\">\n",
              "  <thead>\n",
              "    <tr style=\"text-align: right;\">\n",
              "      <th></th>\n",
              "      <th>Date</th>\n",
              "      <th>neg</th>\n",
              "      <th>neu</th>\n",
              "      <th>pos</th>\n",
              "      <th>com</th>\n",
              "      <th>close</th>\n",
              "      <th>pred</th>\n",
              "      <th>pred_neg</th>\n",
              "      <th>pred_neu</th>\n",
              "      <th>pred_pos</th>\n",
              "      <th>pred_com</th>\n",
              "    </tr>\n",
              "  </thead>\n",
              "  <tbody>\n",
              "    <tr>\n",
              "      <th>0</th>\n",
              "      <td>01/15/2021</td>\n",
              "      <td>0.051717</td>\n",
              "      <td>0.854198</td>\n",
              "      <td>0.094094</td>\n",
              "      <td>0.157303</td>\n",
              "      <td>2.33</td>\n",
              "      <td>3.454731</td>\n",
              "      <td>7.742069</td>\n",
              "      <td>7.439257</td>\n",
              "      <td>6.399701</td>\n",
              "      <td>6.188660</td>\n",
              "    </tr>\n",
              "    <tr>\n",
              "      <th>1</th>\n",
              "      <td>01/19/2021</td>\n",
              "      <td>0.032056</td>\n",
              "      <td>0.867944</td>\n",
              "      <td>0.100011</td>\n",
              "      <td>0.209043</td>\n",
              "      <td>3.06</td>\n",
              "      <td>3.732285</td>\n",
              "      <td>5.600078</td>\n",
              "      <td>6.951304</td>\n",
              "      <td>5.933147</td>\n",
              "      <td>4.868944</td>\n",
              "    </tr>\n",
              "    <tr>\n",
              "      <th>2</th>\n",
              "      <td>01/20/2021</td>\n",
              "      <td>0.030589</td>\n",
              "      <td>0.891189</td>\n",
              "      <td>0.078221</td>\n",
              "      <td>0.155343</td>\n",
              "      <td>2.97</td>\n",
              "      <td>5.010516</td>\n",
              "      <td>5.440358</td>\n",
              "      <td>6.126176</td>\n",
              "      <td>7.651354</td>\n",
              "      <td>6.238644</td>\n",
              "    </tr>\n",
              "    <tr>\n",
              "      <th>3</th>\n",
              "      <td>01/21/2021</td>\n",
              "      <td>0.036168</td>\n",
              "      <td>0.891655</td>\n",
              "      <td>0.072177</td>\n",
              "      <td>0.084737</td>\n",
              "      <td>2.98</td>\n",
              "      <td>8.419001</td>\n",
              "      <td>6.048119</td>\n",
              "      <td>6.109656</td>\n",
              "      <td>8.127946</td>\n",
              "      <td>8.039552</td>\n",
              "    </tr>\n",
              "    <tr>\n",
              "      <th>4</th>\n",
              "      <td>01/22/2021</td>\n",
              "      <td>0.060273</td>\n",
              "      <td>0.862308</td>\n",
              "      <td>0.077420</td>\n",
              "      <td>0.048788</td>\n",
              "      <td>3.51</td>\n",
              "      <td>8.757406</td>\n",
              "      <td>8.674165</td>\n",
              "      <td>7.151391</td>\n",
              "      <td>7.714553</td>\n",
              "      <td>8.956484</td>\n",
              "    </tr>\n",
              "    <tr>\n",
              "      <th>5</th>\n",
              "      <td>01/25/2021</td>\n",
              "      <td>0.030951</td>\n",
              "      <td>0.878253</td>\n",
              "      <td>0.090804</td>\n",
              "      <td>0.176599</td>\n",
              "      <td>4.42</td>\n",
              "      <td>5.062440</td>\n",
              "      <td>5.479731</td>\n",
              "      <td>6.585395</td>\n",
              "      <td>6.659192</td>\n",
              "      <td>5.696494</td>\n",
              "    </tr>\n",
              "    <tr>\n",
              "      <th>6</th>\n",
              "      <td>01/26/2021</td>\n",
              "      <td>0.041856</td>\n",
              "      <td>0.875782</td>\n",
              "      <td>0.082374</td>\n",
              "      <td>0.112311</td>\n",
              "      <td>4.96</td>\n",
              "      <td>5.003683</td>\n",
              "      <td>6.667821</td>\n",
              "      <td>6.673093</td>\n",
              "      <td>7.323854</td>\n",
              "      <td>7.336254</td>\n",
              "    </tr>\n",
              "    <tr>\n",
              "      <th>7</th>\n",
              "      <td>01/27/2021</td>\n",
              "      <td>0.049433</td>\n",
              "      <td>0.862353</td>\n",
              "      <td>0.088215</td>\n",
              "      <td>0.094885</td>\n",
              "      <td>19.90</td>\n",
              "      <td>9.617352</td>\n",
              "      <td>7.493212</td>\n",
              "      <td>7.149788</td>\n",
              "      <td>6.863312</td>\n",
              "      <td>7.780716</td>\n",
              "    </tr>\n",
              "    <tr>\n",
              "      <th>8</th>\n",
              "      <td>01/28/2021</td>\n",
              "      <td>0.065859</td>\n",
              "      <td>0.857587</td>\n",
              "      <td>0.076555</td>\n",
              "      <td>0.030285</td>\n",
              "      <td>8.63</td>\n",
              "      <td>8.847836</td>\n",
              "      <td>9.282718</td>\n",
              "      <td>7.318946</td>\n",
              "      <td>7.782716</td>\n",
              "      <td>9.428435</td>\n",
              "    </tr>\n",
              "    <tr>\n",
              "      <th>9</th>\n",
              "      <td>01/29/2021</td>\n",
              "      <td>0.047950</td>\n",
              "      <td>0.874793</td>\n",
              "      <td>0.077256</td>\n",
              "      <td>0.082901</td>\n",
              "      <td>13.26</td>\n",
              "      <td>8.219541</td>\n",
              "      <td>7.331714</td>\n",
              "      <td>6.708213</td>\n",
              "      <td>7.727470</td>\n",
              "      <td>8.086393</td>\n",
              "    </tr>\n",
              "    <tr>\n",
              "      <th>10</th>\n",
              "      <td>02/01/2021</td>\n",
              "      <td>0.042503</td>\n",
              "      <td>0.879299</td>\n",
              "      <td>0.078195</td>\n",
              "      <td>0.112002</td>\n",
              "      <td>13.30</td>\n",
              "      <td>7.232218</td>\n",
              "      <td>6.738270</td>\n",
              "      <td>6.548252</td>\n",
              "      <td>7.653381</td>\n",
              "      <td>7.344131</td>\n",
              "    </tr>\n",
              "    <tr>\n",
              "      <th>11</th>\n",
              "      <td>02/02/2021</td>\n",
              "      <td>0.061574</td>\n",
              "      <td>0.860721</td>\n",
              "      <td>0.077705</td>\n",
              "      <td>0.051378</td>\n",
              "      <td>7.82</td>\n",
              "      <td>8.514885</td>\n",
              "      <td>8.815877</td>\n",
              "      <td>7.207727</td>\n",
              "      <td>7.692025</td>\n",
              "      <td>8.890431</td>\n",
              "    </tr>\n",
              "    <tr>\n",
              "      <th>12</th>\n",
              "      <td>02/03/2021</td>\n",
              "      <td>0.042146</td>\n",
              "      <td>0.871988</td>\n",
              "      <td>0.085875</td>\n",
              "      <td>0.123729</td>\n",
              "      <td>8.97</td>\n",
              "      <td>5.915849</td>\n",
              "      <td>6.699322</td>\n",
              "      <td>6.807780</td>\n",
              "      <td>7.047795</td>\n",
              "      <td>7.044998</td>\n",
              "    </tr>\n",
              "    <tr>\n",
              "      <th>13</th>\n",
              "      <td>02/04/2021</td>\n",
              "      <td>0.038661</td>\n",
              "      <td>0.864517</td>\n",
              "      <td>0.096827</td>\n",
              "      <td>0.177291</td>\n",
              "      <td>7.09</td>\n",
              "      <td>5.901966</td>\n",
              "      <td>6.319688</td>\n",
              "      <td>7.072966</td>\n",
              "      <td>6.184253</td>\n",
              "      <td>5.678837</td>\n",
              "    </tr>\n",
              "    <tr>\n",
              "      <th>14</th>\n",
              "      <td>02/05/2021</td>\n",
              "      <td>0.035474</td>\n",
              "      <td>0.862192</td>\n",
              "      <td>0.102332</td>\n",
              "      <td>0.230445</td>\n",
              "      <td>6.83</td>\n",
              "      <td>4.963334</td>\n",
              "      <td>5.972471</td>\n",
              "      <td>7.155514</td>\n",
              "      <td>5.750104</td>\n",
              "      <td>4.323054</td>\n",
              "    </tr>\n",
              "    <tr>\n",
              "      <th>15</th>\n",
              "      <td>02/08/2021</td>\n",
              "      <td>0.047001</td>\n",
              "      <td>0.864245</td>\n",
              "      <td>0.088751</td>\n",
              "      <td>0.127126</td>\n",
              "      <td>6.18</td>\n",
              "      <td>8.113548</td>\n",
              "      <td>7.228297</td>\n",
              "      <td>7.082622</td>\n",
              "      <td>6.821014</td>\n",
              "      <td>6.958351</td>\n",
              "    </tr>\n",
              "    <tr>\n",
              "      <th>16</th>\n",
              "      <td>02/09/2021</td>\n",
              "      <td>0.050804</td>\n",
              "      <td>0.849414</td>\n",
              "      <td>0.099778</td>\n",
              "      <td>0.139171</td>\n",
              "      <td>5.50</td>\n",
              "      <td>9.871264</td>\n",
              "      <td>7.642606</td>\n",
              "      <td>7.609093</td>\n",
              "      <td>5.951514</td>\n",
              "      <td>6.651127</td>\n",
              "    </tr>\n",
              "    <tr>\n",
              "      <th>17</th>\n",
              "      <td>02/10/2021</td>\n",
              "      <td>0.043293</td>\n",
              "      <td>0.868911</td>\n",
              "      <td>0.087797</td>\n",
              "      <td>0.117364</td>\n",
              "      <td>5.80</td>\n",
              "      <td>8.339000</td>\n",
              "      <td>6.824347</td>\n",
              "      <td>6.916989</td>\n",
              "      <td>6.896226</td>\n",
              "      <td>7.207346</td>\n",
              "    </tr>\n",
              "    <tr>\n",
              "      <th>18</th>\n",
              "      <td>02/11/2021</td>\n",
              "      <td>0.042952</td>\n",
              "      <td>0.862314</td>\n",
              "      <td>0.094739</td>\n",
              "      <td>0.159058</td>\n",
              "      <td>5.61</td>\n",
              "      <td>6.015118</td>\n",
              "      <td>6.787164</td>\n",
              "      <td>7.151163</td>\n",
              "      <td>6.348862</td>\n",
              "      <td>6.143885</td>\n",
              "    </tr>\n",
              "    <tr>\n",
              "      <th>19</th>\n",
              "      <td>02/12/2021</td>\n",
              "      <td>0.035010</td>\n",
              "      <td>0.868131</td>\n",
              "      <td>0.096861</td>\n",
              "      <td>0.170687</td>\n",
              "      <td>5.59</td>\n",
              "      <td>7.718026</td>\n",
              "      <td>5.921973</td>\n",
              "      <td>6.944676</td>\n",
              "      <td>6.181580</td>\n",
              "      <td>5.847266</td>\n",
              "    </tr>\n",
              "  </tbody>\n",
              "</table>\n",
              "</div>"
            ],
            "text/plain": [
              "          Date       neg       neu  ...  pred_neu  pred_pos  pred_com\n",
              "0   01/15/2021  0.051717  0.854198  ...  7.439257  6.399701  6.188660\n",
              "1   01/19/2021  0.032056  0.867944  ...  6.951304  5.933147  4.868944\n",
              "2   01/20/2021  0.030589  0.891189  ...  6.126176  7.651354  6.238644\n",
              "3   01/21/2021  0.036168  0.891655  ...  6.109656  8.127946  8.039552\n",
              "4   01/22/2021  0.060273  0.862308  ...  7.151391  7.714553  8.956484\n",
              "5   01/25/2021  0.030951  0.878253  ...  6.585395  6.659192  5.696494\n",
              "6   01/26/2021  0.041856  0.875782  ...  6.673093  7.323854  7.336254\n",
              "7   01/27/2021  0.049433  0.862353  ...  7.149788  6.863312  7.780716\n",
              "8   01/28/2021  0.065859  0.857587  ...  7.318946  7.782716  9.428435\n",
              "9   01/29/2021  0.047950  0.874793  ...  6.708213  7.727470  8.086393\n",
              "10  02/01/2021  0.042503  0.879299  ...  6.548252  7.653381  7.344131\n",
              "11  02/02/2021  0.061574  0.860721  ...  7.207727  7.692025  8.890431\n",
              "12  02/03/2021  0.042146  0.871988  ...  6.807780  7.047795  7.044998\n",
              "13  02/04/2021  0.038661  0.864517  ...  7.072966  6.184253  5.678837\n",
              "14  02/05/2021  0.035474  0.862192  ...  7.155514  5.750104  4.323054\n",
              "15  02/08/2021  0.047001  0.864245  ...  7.082622  6.821014  6.958351\n",
              "16  02/09/2021  0.050804  0.849414  ...  7.609093  5.951514  6.651127\n",
              "17  02/10/2021  0.043293  0.868911  ...  6.916989  6.896226  7.207346\n",
              "18  02/11/2021  0.042952  0.862314  ...  7.151163  6.348862  6.143885\n",
              "19  02/12/2021  0.035010  0.868131  ...  6.944676  6.181580  5.847266\n",
              "\n",
              "[20 rows x 11 columns]"
            ]
          },
          "metadata": {
            "tags": []
          },
          "execution_count": 30
        }
      ]
    },
    {
      "cell_type": "code",
      "metadata": {
        "colab": {
          "base_uri": "https://localhost:8080/"
        },
        "id": "UmwBBBuOGBno",
        "outputId": "fbd59f7f-39f9-41ab-9184-3c00baca0b71"
      },
      "source": [
        "amc_score_neg = mean_squared_error(amc_merge_df[['close']], amc_merge_pred1[['pred_neg']])\n",
        "amc_score_neu = mean_squared_error(amc_merge_df[['close']], amc_merge_pred1[['pred_neu']])\n",
        "amc_score_pos = mean_squared_error(amc_merge_df[['close']], amc_merge_pred1[['pred_pos']])\n",
        "amc_score_com = mean_squared_error(amc_merge_df[['close']], amc_merge_pred1[['pred_com']])\n",
        "[amc_score_neg,amc_score_neu,amc_score_pos,amc_score_com]"
      ],
      "execution_count": null,
      "outputs": [
        {
          "output_type": "execute_result",
          "data": {
            "text/plain": [
              "[16.511674608557456, 17.52812044393578, 17.154519701675277, 15.926417280534002]"
            ]
          },
          "metadata": {
            "tags": []
          },
          "execution_count": 31
        }
      ]
    },
    {
      "cell_type": "code",
      "metadata": {
        "colab": {
          "base_uri": "https://localhost:8080/",
          "height": 554
        },
        "id": "H0VGNOe2aJ2F",
        "outputId": "c533285f-404c-4506-a389-04b0e506c308"
      },
      "source": [
        "#plot the new amc model\n",
        "#In this part, it is plotting the data with the stock + the model itself\n",
        "fig, axs = plt.subplots(2,2)\n",
        "fig.suptitle('AMC stock vs sentimental analysis')\n",
        "fig.set_size_inches(10,8)\n",
        "\n",
        "amc_sort_neg = amc_merge_pred1.sort_values(by=['neg'])\n",
        "axs[0,0].scatter(amc_sort_neg[['neg']],amc_sort_neg[['close']],color='red',label='neg') #Plotting the data\n",
        "axs[0,0].plot(amc_sort_neg[['neg']], amc_sort_neg[['pred_neg']], color='black', linewidth=3) #plotting the model by using the prediction\n",
        "axs[0,0].set_title('stock vs neg')\n",
        "axs[0,0].set(xlabel='neg score', ylabel='stock price')\n",
        "axs[0,0].label_outer()\n",
        "\n",
        "amc_sort_neu = amc_merge_pred1.sort_values(by=['neu'])\n",
        "axs[0,1].scatter(amc_sort_neu[['neu']],amc_sort_neu[['close']],color='blue',label='neu') #Plotting the data\n",
        "axs[0,1].plot(amc_sort_neu[['neu']], amc_sort_neu[['pred_neu']], color='black', linewidth=3)#plotting the model by using the prediction\n",
        "axs[0,1].set_title('stock vs neu')\n",
        "axs[0,1].set(xlabel='neu score', ylabel='stock price')\n",
        "axs[0,1].label_outer()\n",
        "\n",
        "amc_sort_pos = amc_merge_pred1.sort_values(by=['pos'])\n",
        "axs[1,0].scatter(amc_sort_pos[['pos']],amc_sort_pos[['close']],color='green',label='pos')#Plotting the data\n",
        "axs[1,0].plot(amc_sort_pos[['pos']], amc_sort_pos[['pred_pos']], color='black', linewidth=3)#plotting the model by using the prediction\n",
        "axs[1,0].set_title('stock vs pos')\n",
        "axs[1,0].set(xlabel='pos score', ylabel='stock price')\n",
        "axs[1,0].label_outer()\n",
        "\n",
        "amc_sort_com = amc_merge_pred1.sort_values(by=['com'])\n",
        "axs[1,1].scatter(amc_sort_com[['com']],amc_sort_com[['close']],color='yellow',label='com')#Plotting the data\n",
        "axs[1,1].plot(amc_sort_com[['com']], amc_sort_com[['pred_com']], color='black', linewidth=3)#plotting the model by using the prediction\n",
        "axs[1,1].set_title('stock vs com')\n",
        "axs[1,1].set(xlabel='com score', ylabel='stock price')\n",
        "axs[1,1].label_outer()\n"
      ],
      "execution_count": null,
      "outputs": [
        {
          "output_type": "display_data",
          "data": {
            "image/png": "[encoded data removed]",
            "text/plain": [
              "<Figure size 720x576 with 4 Axes>"
            ]
          },
          "metadata": {
            "tags": [],
            "needs_background": "light"
          }
        }
      ]
    }
  ]
}