{
  "nbformat": 4,
  "nbformat_minor": 0,
  "metadata": {
    "colab": {
      "name": "analysis.ipynb",
      "provenance": [],
      "collapsed_sections": [],
      "include_colab_link": true
    },
    "kernelspec": {
      "name": "python3",
      "display_name": "Python 3"
    },
    "language_info": {
      "name": "python"
    }
  },
  "cells": [
    {
      "cell_type": "markdown",
      "metadata": {
        "id": "view-in-github",
        "colab_type": "text"
      },
      "source": [
        "<a href=\"https://colab.research.google.com/github/chriztaka1997/linear_reg_sentimental_analysis/blob/main/analysis.ipynb\" target=\"_parent\"><img src=\"https://colab.research.google.com/assets/colab-badge.svg\" alt=\"Open In Colab\"/></a>"
      ]
    },
    {
      "cell_type": "markdown",
      "metadata": {
        "id": "X16QqBCD74vx"
      },
      "source": [
        "# Initializing project"
      ]
    },
    {
      "cell_type": "code",
      "metadata": {
        "colab": {
          "base_uri": "https://localhost:8080/"
        },
        "id": "N1Ddc6SX74ew",
        "outputId": "f7b0382d-6a87-4775-d429-79c2729e4089"
      },
      "source": [
        "import numpy as np\n",
        "from sklearn.linear_model import LinearRegression\n",
        "import matplotlib.pyplot as plt\n",
        "import pandas as pd\n",
        "\n",
        "from google.colab import drive\n",
        "drive.mount('/content/drive')"
      ],
      "execution_count": null,
      "outputs": [
        {
          "output_type": "stream",
          "text": [
            "Drive already mounted at /content/drive; to attempt to forcibly remount, call drive.mount(\"/content/drive\", force_remount=True).\n"
          ],
          "name": "stdout"
        }
      ]
    },
    {
      "cell_type": "code",
      "metadata": {
        "colab": {
          "base_uri": "https://localhost:8080/"
        },
        "id": "VaAYMA7C8kFc",
        "outputId": "92b1f34f-8f09-4fdd-b121-4265f05bc204"
      },
      "source": [
        "project_path = \"/content/drive/My Drive/CSCI_534 Project/Project\"\n",
        "\n",
        "amc_stock = pd.read_csv(project_path+'/AMC Stock Data.csv') #181 of sample\n",
        "amc_vader = pd.read_csv(project_path+'/amc_vader.csv',index_col=0) #108817 of samples\n",
        "\n",
        "gm_stock = pd.read_csv(project_path+'/Gamestop Stock Data.csv') #181 of sample\n",
        "gm_vader = pd.read_csv(project_path+'/gamestop_vader.csv',index_col=0) #926877 of samples\n",
        "\n",
        "nokia_stock = pd.read_csv(project_path+'/Nokia Stock Data.csv') #181 of sample\n",
        "nokia_vader = pd.read_csv(project_path+'/nokia_vader.csv',index_col=0) #134351 of samples"
      ],
      "execution_count": null,
      "outputs": [
        {
          "output_type": "stream",
          "text": [
            "/usr/local/lib/python3.7/dist-packages/IPython/core/interactiveshell.py:2718: DtypeWarning: Columns (1,2,3,4,5) have mixed types.Specify dtype option on import or set low_memory=False.\n",
            "  interactivity=interactivity, compiler=compiler, result=result)\n",
            "/usr/local/lib/python3.7/dist-packages/IPython/core/interactiveshell.py:2718: DtypeWarning: Columns (2) have mixed types.Specify dtype option on import or set low_memory=False.\n",
            "  interactivity=interactivity, compiler=compiler, result=result)\n"
          ],
          "name": "stderr"
        }
      ]
    },
    {
      "cell_type": "code",
      "metadata": {
        "colab": {
          "base_uri": "https://localhost:8080/"
        },
        "id": "f_uXTIxHFLGS",
        "outputId": "15054ff1-66e8-485e-eee5-90b34c2aadc6"
      },
      "source": [
        "#This line is prepared to check the data above\n",
        "# amc_vader[\"Datetime\"]#sample format 2021-01-21 23:26:51+00:00\n",
        "# amc_stock[\"Date\"][140:] #sample formate 7/1/2020 16:00:00\n",
        "amc_stock['Date']"
      ],
      "execution_count": null,
      "outputs": [
        {
          "output_type": "execute_result",
          "data": {
            "text/plain": [
              "0       7/1/2020 16:00:00\n",
              "1       7/2/2020 16:00:00\n",
              "2       7/6/2020 16:00:00\n",
              "3       7/7/2020 16:00:00\n",
              "4       7/8/2020 16:00:00\n",
              "              ...        \n",
              "176    3/15/2021 16:00:00\n",
              "177    3/16/2021 16:00:00\n",
              "178    3/17/2021 16:00:00\n",
              "179    3/18/2021 16:00:00\n",
              "180    3/19/2021 16:00:00\n",
              "Name: Date, Length: 181, dtype: object"
            ]
          },
          "metadata": {
            "tags": []
          },
          "execution_count": 34
        }
      ]
    },
    {
      "cell_type": "markdown",
      "metadata": {
        "id": "P-A0aIXACpyE"
      },
      "source": [
        "# Preparing data\n",
        "In this part, we will combine and prepare the data is neccessary for the model to learn such as date, stock price and vader scores."
      ]
    },
    {
      "cell_type": "code",
      "metadata": {
        "id": "5nhdAjseCtua"
      },
      "source": [
        "#In this part we are preparing data for processing (taking datetime and scores from vader data)\n",
        "amc_vader_date = amc_vader['Datetime'].to_numpy()\n",
        "amc_vader_scores = amc_vader['scores'].to_numpy()\n",
        "\n",
        "gm_vader_date = gm_vader['Datetime'].to_numpy()\n",
        "gm_vader_scores = gm_vader['scores'].to_numpy()\n",
        "\n",
        "nokia_vader_date = nokia_vader[\"Datetime\"].to_numpy()\n",
        "nokia_vader_scores = nokia_vader['scores'].to_numpy()"
      ],
      "execution_count": null,
      "outputs": []
    },
    {
      "cell_type": "code",
      "metadata": {
        "colab": {
          "base_uri": "https://localhost:8080/"
        },
        "id": "2Zog73U6XRX0",
        "outputId": "a744ee0f-6b3f-4efb-ab88-8888ce1cd107"
      },
      "source": [
        "#this space  is for testing code, can be ignored\n",
        "amc_vader_scores[0].replace(',','').split()"
      ],
      "execution_count": null,
      "outputs": [
        {
          "output_type": "execute_result",
          "data": {
            "text/plain": [
              "[\"{'neg':\",\n",
              " '0.149',\n",
              " \"'neu':\",\n",
              " '0.789',\n",
              " \"'pos':\",\n",
              " '0.061',\n",
              " \"'compound':\",\n",
              " '-0.4588}']"
            ]
          },
          "metadata": {
            "tags": []
          },
          "execution_count": 27
        }
      ]
    },
    {
      "cell_type": "code",
      "metadata": {
        "colab": {
          "base_uri": "https://localhost:8080/"
        },
        "id": "gIWDACliUR-J",
        "outputId": "00feb27c-de6e-4605-e5ed-f56c31d140ef"
      },
      "source": [
        "NEG = 1\n",
        "NEU = 3\n",
        "POS = 5\n",
        "COM = -1 #remove '}'\n",
        "\n",
        "#Cleaning amc data\n",
        "amc_vader_neg =[]\n",
        "amc_vader_neu =[]\n",
        "amc_vader_pos =[]\n",
        "amc_vader_com =[] #don't know if needed\n",
        "for i in range(len(amc_vader_date)):\n",
        "  amc_vader_date[i] = amc_vader_date[i].split()[0]    #cleaning the data only the date\n",
        "  res = amc_vader_scores[i].replace(',','').split()\n",
        "  amc_vader_neg.append(float(res[NEG]))\n",
        "  amc_vader_neu.append(float(res[NEU]))\n",
        "  amc_vader_pos.append(float(res[POS]))\n",
        "  amc_vader_com.append(float(res[COM].replace(\"}\",\"\")))\n"
      ],
      "execution_count": null,
      "outputs": [
        {
          "output_type": "execute_result",
          "data": {
            "text/plain": [
              "108817"
            ]
          },
          "metadata": {
            "tags": []
          },
          "execution_count": 31
        }
      ]
    },
    {
      "cell_type": "code",
      "metadata": {
        "id": "4yjwzL_PWERQ"
      },
      "source": [
        "#same thing for game stop"
      ],
      "execution_count": null,
      "outputs": []
    },
    {
      "cell_type": "code",
      "metadata": {
        "id": "Klb_E37TacqM"
      },
      "source": [
        "#same thing for nokia"
      ],
      "execution_count": null,
      "outputs": []
    }
  ]
}